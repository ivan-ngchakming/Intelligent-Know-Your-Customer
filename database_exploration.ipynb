{
 "cells": [
  {
   "cell_type": "code",
   "execution_count": 1,
   "source": [
    "from dotenv import load_dotenv\r\n",
    "\r\n",
    "load_dotenv()"
   ],
   "outputs": [
    {
     "output_type": "execute_result",
     "data": {
      "text/plain": [
       "True"
      ]
     },
     "metadata": {},
     "execution_count": 1
    }
   ],
   "metadata": {}
  },
  {
   "cell_type": "code",
   "execution_count": 3,
   "source": [
    "from server.database import engine, create_all, drop_all\r\n",
    "from sqlalchemy import insert, select\r\n",
    "from server.database.tables import user_table, login_history_table\r\n",
    "\r\n",
    "drop_all()\r\n",
    "create_all()"
   ],
   "outputs": [
    {
     "output_type": "stream",
     "name": "stdout",
     "text": [
      "2021-09-29 01:08:59,520 INFO sqlalchemy.engine.Engine BEGIN (implicit)\n",
      "2021-09-29 01:08:59,521 INFO sqlalchemy.engine.Engine SELECT COUNT(*) FROM information_schema.tables WHERE table_schema = %(table_schema)s AND table_name = %(table_name)s\n",
      "2021-09-29 01:08:59,521 INFO sqlalchemy.engine.Engine [cached since 13.56s ago] {'table_schema': 'facerecognition', 'table_name': 'user'}\n",
      "2021-09-29 01:08:59,523 INFO sqlalchemy.engine.Engine SELECT COUNT(*) FROM information_schema.tables WHERE table_schema = %(table_schema)s AND table_name = %(table_name)s\n",
      "2021-09-29 01:08:59,524 INFO sqlalchemy.engine.Engine [cached since 13.56s ago] {'table_schema': 'facerecognition', 'table_name': 'login_history'}\n",
      "2021-09-29 01:08:59,525 INFO sqlalchemy.engine.Engine \n",
      "DROP TABLE login_history\n",
      "2021-09-29 01:08:59,525 INFO sqlalchemy.engine.Engine [no key 0.00041s] {}\n",
      "2021-09-29 01:08:59,605 INFO sqlalchemy.engine.Engine \n",
      "DROP TABLE user\n",
      "2021-09-29 01:08:59,605 INFO sqlalchemy.engine.Engine [no key 0.00067s] {}\n",
      "2021-09-29 01:08:59,638 INFO sqlalchemy.engine.Engine COMMIT\n",
      "2021-09-29 01:08:59,639 INFO sqlalchemy.engine.Engine BEGIN (implicit)\n",
      "2021-09-29 01:08:59,640 INFO sqlalchemy.engine.Engine SELECT COUNT(*) FROM information_schema.tables WHERE table_schema = %(table_schema)s AND table_name = %(table_name)s\n",
      "2021-09-29 01:08:59,641 INFO sqlalchemy.engine.Engine [cached since 13.67s ago] {'table_schema': 'facerecognition', 'table_name': 'user'}\n",
      "2021-09-29 01:08:59,642 INFO sqlalchemy.engine.Engine SELECT COUNT(*) FROM information_schema.tables WHERE table_schema = %(table_schema)s AND table_name = %(table_name)s\n",
      "2021-09-29 01:08:59,643 INFO sqlalchemy.engine.Engine [cached since 13.68s ago] {'table_schema': 'facerecognition', 'table_name': 'login_history'}\n",
      "2021-09-29 01:08:59,644 INFO sqlalchemy.engine.Engine \n",
      "CREATE TABLE user (\n",
      "\tuser_id INTEGER NOT NULL AUTO_INCREMENT, \n",
      "\tname VARCHAR(30) NOT NULL, \n",
      "\tpassword VARCHAR(30), \n",
      "\tjoined_date DATETIME NOT NULL DEFAULT now(), \n",
      "\tPRIMARY KEY (user_id)\n",
      ")\n",
      "\n",
      "\n",
      "2021-09-29 01:08:59,644 INFO sqlalchemy.engine.Engine [no key 0.00042s] {}\n",
      "2021-09-29 01:08:59,699 INFO sqlalchemy.engine.Engine \n",
      "CREATE TABLE login_history (\n",
      "\tlogin_date DATETIME NOT NULL DEFAULT now(), \n",
      "\tuser_id INTEGER NOT NULL, \n",
      "\tconfidence FLOAT NOT NULL, \n",
      "\tlogout_date DATETIME, \n",
      "\tPRIMARY KEY (login_date, user_id), \n",
      "\tFOREIGN KEY(user_id) REFERENCES user (user_id)\n",
      ")\n",
      "\n",
      "\n",
      "2021-09-29 01:08:59,700 INFO sqlalchemy.engine.Engine [no key 0.00072s] {}\n",
      "2021-09-29 01:08:59,789 INFO sqlalchemy.engine.Engine COMMIT\n"
     ]
    }
   ],
   "metadata": {}
  },
  {
   "cell_type": "code",
   "execution_count": 4,
   "source": [
    "from sqlalchemy import text\r\n",
    "\r\n",
    "# https://docs.sqlalchemy.org/en/14/tutorial/dbapi_transactions.html\r\n",
    "\r\n",
    "with engine.connect() as conn:\r\n",
    "    result = conn.execute(text(\"select 'hello world'\"))\r\n",
    "    print(result.all())"
   ],
   "outputs": [
    {
     "output_type": "stream",
     "name": "stdout",
     "text": [
      "2021-09-29 01:09:13,519 INFO sqlalchemy.engine.Engine BEGIN (implicit)\n",
      "2021-09-29 01:09:13,519 INFO sqlalchemy.engine.Engine select 'hello world'\n",
      "2021-09-29 01:09:13,520 INFO sqlalchemy.engine.Engine [generated in 0.00149s] {}\n",
      "[('hello world',)]\n",
      "2021-09-29 01:09:13,520 INFO sqlalchemy.engine.Engine ROLLBACK\n"
     ]
    }
   ],
   "metadata": {}
  },
  {
   "cell_type": "code",
   "execution_count": 5,
   "source": [
    "with engine.connect() as conn:\r\n",
    "    result = conn.execute(insert(user_table),\r\n",
    "    [\r\n",
    "        {'name': 'Kittie'},\r\n",
    "        {'name': 'Lucas'},\r\n",
    "        {'name': 'Kelly'},\r\n",
    "        {'name': 'Ivan'},\r\n",
    "    ])\r\n",
    "    conn.commit()"
   ],
   "outputs": [
    {
     "output_type": "stream",
     "name": "stdout",
     "text": [
      "2021-09-29 01:09:15,533 INFO sqlalchemy.engine.Engine BEGIN (implicit)\n",
      "2021-09-29 01:09:15,534 INFO sqlalchemy.engine.Engine INSERT INTO user (name) VALUES (%(name)s)\n",
      "2021-09-29 01:09:15,534 INFO sqlalchemy.engine.Engine [generated in 0.00144s] ({'name': 'Kittie'}, {'name': 'Lucas'}, {'name': 'Kelly'}, {'name': 'Ivan'})\n",
      "2021-09-29 01:09:15,545 INFO sqlalchemy.engine.Engine COMMIT\n"
     ]
    }
   ],
   "metadata": {}
  },
  {
   "cell_type": "code",
   "execution_count": 7,
   "source": [
    "with engine.connect() as conn:\r\n",
    "    result = conn.execute(select(user_table))\r\n",
    "    for row in result.all():\r\n",
    "        print(row)"
   ],
   "outputs": [
    {
     "output_type": "stream",
     "name": "stdout",
     "text": [
      "2021-09-29 01:09:46,418 INFO sqlalchemy.engine.Engine BEGIN (implicit)\n",
      "2021-09-29 01:09:46,419 INFO sqlalchemy.engine.Engine SELECT user.user_id, user.name, user.password, user.joined_date \n",
      "FROM user\n",
      "2021-09-29 01:09:46,419 INFO sqlalchemy.engine.Engine [cached since 27.94s ago] {}\n",
      "(1, 'Kittie', None, datetime.datetime(2021, 9, 29, 1, 9, 15))\n",
      "(2, 'Lucas', None, datetime.datetime(2021, 9, 29, 1, 9, 15))\n",
      "(3, 'Kelly', None, datetime.datetime(2021, 9, 29, 1, 9, 15))\n",
      "(4, 'Ivan', None, datetime.datetime(2021, 9, 29, 1, 9, 15))\n",
      "2021-09-29 01:09:46,420 INFO sqlalchemy.engine.Engine ROLLBACK\n"
     ]
    }
   ],
   "metadata": {}
  },
  {
   "cell_type": "code",
   "execution_count": 8,
   "source": [
    "import time\r\n",
    "\r\n",
    "with engine.connect() as conn:\r\n",
    "    for _ in range(5):\r\n",
    "        result = conn.execute(insert(login_history_table),\r\n",
    "        [\r\n",
    "            {'user_id': 1, 'confidence': 60},\r\n",
    "        ])\r\n",
    "        conn.commit()\r\n",
    "        time.sleep(1)\r\n"
   ],
   "outputs": [
    {
     "output_type": "stream",
     "name": "stdout",
     "text": [
      "2021-09-29 01:11:35,431 INFO sqlalchemy.engine.Engine BEGIN (implicit)\n",
      "2021-09-29 01:11:35,432 INFO sqlalchemy.engine.Engine INSERT INTO login_history (user_id, confidence) VALUES (%(user_id)s, %(confidence)s)\n",
      "2021-09-29 01:11:35,432 INFO sqlalchemy.engine.Engine [generated in 0.00166s] {'user_id': 1, 'confidence': 60}\n",
      "2021-09-29 01:11:35,443 INFO sqlalchemy.engine.Engine COMMIT\n",
      "2021-09-29 01:11:36,465 INFO sqlalchemy.engine.Engine BEGIN (implicit)\n",
      "2021-09-29 01:11:36,466 INFO sqlalchemy.engine.Engine INSERT INTO login_history (user_id, confidence) VALUES (%(user_id)s, %(confidence)s)\n",
      "2021-09-29 01:11:36,466 INFO sqlalchemy.engine.Engine [cached since 1.036s ago] {'user_id': 1, 'confidence': 60}\n",
      "2021-09-29 01:11:36,467 INFO sqlalchemy.engine.Engine COMMIT\n",
      "2021-09-29 01:11:37,488 INFO sqlalchemy.engine.Engine BEGIN (implicit)\n",
      "2021-09-29 01:11:37,489 INFO sqlalchemy.engine.Engine INSERT INTO login_history (user_id, confidence) VALUES (%(user_id)s, %(confidence)s)\n",
      "2021-09-29 01:11:37,489 INFO sqlalchemy.engine.Engine [cached since 2.058s ago] {'user_id': 1, 'confidence': 60}\n",
      "2021-09-29 01:11:37,491 INFO sqlalchemy.engine.Engine COMMIT\n",
      "2021-09-29 01:11:38,508 INFO sqlalchemy.engine.Engine BEGIN (implicit)\n",
      "2021-09-29 01:11:38,509 INFO sqlalchemy.engine.Engine INSERT INTO login_history (user_id, confidence) VALUES (%(user_id)s, %(confidence)s)\n",
      "2021-09-29 01:11:38,509 INFO sqlalchemy.engine.Engine [cached since 3.078s ago] {'user_id': 1, 'confidence': 60}\n",
      "2021-09-29 01:11:38,510 INFO sqlalchemy.engine.Engine COMMIT\n",
      "2021-09-29 01:11:39,525 INFO sqlalchemy.engine.Engine BEGIN (implicit)\n",
      "2021-09-29 01:11:39,526 INFO sqlalchemy.engine.Engine INSERT INTO login_history (user_id, confidence) VALUES (%(user_id)s, %(confidence)s)\n",
      "2021-09-29 01:11:39,526 INFO sqlalchemy.engine.Engine [cached since 4.095s ago] {'user_id': 1, 'confidence': 60}\n",
      "2021-09-29 01:11:39,527 INFO sqlalchemy.engine.Engine COMMIT\n"
     ]
    }
   ],
   "metadata": {}
  }
 ],
 "metadata": {
  "orig_nbformat": 4,
  "language_info": {
   "name": "python",
   "version": "3.9.6",
   "mimetype": "text/x-python",
   "codemirror_mode": {
    "name": "ipython",
    "version": 3
   },
   "pygments_lexer": "ipython3",
   "nbconvert_exporter": "python",
   "file_extension": ".py"
  },
  "kernelspec": {
   "name": "python3",
   "display_name": "Python 3.9.6 64-bit ('venv': venv)"
  },
  "interpreter": {
   "hash": "c8fdbd56d0fa6160bd26a103725d32b860781f995057a73c434bfdbbda1cd5f2"
  }
 },
 "nbformat": 4,
 "nbformat_minor": 2
}