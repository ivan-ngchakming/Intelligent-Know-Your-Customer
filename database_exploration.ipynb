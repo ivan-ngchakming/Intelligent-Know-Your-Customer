{
 "cells": [
  {
   "cell_type": "code",
   "execution_count": 3,
   "source": [
    "from dotenv import load_dotenv\n",
    "\n",
    "load_dotenv()"
   ],
   "outputs": [
    {
     "output_type": "execute_result",
     "data": {
      "text/plain": [
       "True"
      ]
     },
     "metadata": {},
     "execution_count": 3
    }
   ],
   "metadata": {}
  },
  {
   "cell_type": "code",
   "execution_count": 4,
   "source": [
    "from server.database import engine, create_all\n",
    "\n",
    "create_all()"
   ],
   "outputs": [
    {
     "output_type": "stream",
     "name": "stdout",
     "text": [
      "2021-09-27 12:04:46,764 INFO sqlalchemy.engine.Engine SHOW VARIABLES LIKE 'sql_mode'\n",
      "2021-09-27 12:04:46,766 INFO sqlalchemy.engine.Engine [raw sql] {}\n",
      "2021-09-27 12:04:47,139 INFO sqlalchemy.engine.Engine SHOW VARIABLES LIKE 'lower_case_table_names'\n",
      "2021-09-27 12:04:47,140 INFO sqlalchemy.engine.Engine [generated in 0.01019s] {}\n",
      "2021-09-27 12:04:47,165 INFO sqlalchemy.engine.Engine SELECT DATABASE()\n",
      "2021-09-27 12:04:47,167 INFO sqlalchemy.engine.Engine [raw sql] {}\n",
      "2021-09-27 12:04:47,178 INFO sqlalchemy.engine.Engine BEGIN (implicit)\n",
      "2021-09-27 12:04:47,182 INFO sqlalchemy.engine.Engine SELECT COUNT(*) FROM information_schema.tables WHERE table_schema = %(table_schema)s AND table_name = %(table_name)s\n",
      "2021-09-27 12:04:47,184 INFO sqlalchemy.engine.Engine [generated in 0.00369s] {'table_schema': 'facerecognition', 'table_name': 'user'}\n",
      "2021-09-27 12:04:47,574 INFO sqlalchemy.engine.Engine SELECT COUNT(*) FROM information_schema.tables WHERE table_schema = %(table_schema)s AND table_name = %(table_name)s\n",
      "2021-09-27 12:04:47,575 INFO sqlalchemy.engine.Engine [cached since 0.3947s ago] {'table_schema': 'facerecognition', 'table_name': 'login_history'}\n",
      "2021-09-27 12:04:47,593 INFO sqlalchemy.engine.Engine \n",
      "CREATE TABLE user (\n",
      "\tuser_id INTEGER NOT NULL AUTO_INCREMENT, \n",
      "\tname VARCHAR(30) NOT NULL, \n",
      "\tpassword VARCHAR(30) NOT NULL, \n",
      "\tjoined_date DATETIME NOT NULL, \n",
      "\tPRIMARY KEY (user_id)\n",
      ")\n",
      "\n",
      "\n",
      "2021-09-27 12:04:47,595 INFO sqlalchemy.engine.Engine [no key 0.00308s] {}\n",
      "2021-09-27 12:04:47,897 INFO sqlalchemy.engine.Engine \n",
      "CREATE TABLE login_history (\n",
      "\tlogin_date DATETIME NOT NULL, \n",
      "\tuser_id INTEGER NOT NULL, \n",
      "\tconfidence FLOAT NOT NULL, \n",
      "\tlogout_date DATETIME, \n",
      "\tPRIMARY KEY (login_date, user_id), \n",
      "\tFOREIGN KEY(user_id) REFERENCES user (user_id)\n",
      ")\n",
      "\n",
      "\n",
      "2021-09-27 12:04:47,898 INFO sqlalchemy.engine.Engine [no key 0.00295s] {}\n",
      "2021-09-27 12:04:48,040 INFO sqlalchemy.engine.Engine COMMIT\n"
     ]
    }
   ],
   "metadata": {}
  },
  {
   "cell_type": "code",
   "execution_count": 5,
   "source": [
    "from sqlalchemy import text\n",
    "\n",
    "# https://docs.sqlalchemy.org/en/14/tutorial/dbapi_transactions.html\n",
    "\n",
    "with engine.connect() as conn:\n",
    "    result = conn.execute(text(\"select 'hello world'\"))\n",
    "    print(result.all())"
   ],
   "outputs": [
    {
     "output_type": "stream",
     "name": "stdout",
     "text": [
      "2021-09-27 12:07:52,586 INFO sqlalchemy.engine.Engine BEGIN (implicit)\n",
      "2021-09-27 12:07:52,594 INFO sqlalchemy.engine.Engine select 'hello world'\n",
      "2021-09-27 12:07:52,596 INFO sqlalchemy.engine.Engine [generated in 0.01710s] {}\n",
      "[('hello world',)]\n",
      "2021-09-27 12:07:52,603 INFO sqlalchemy.engine.Engine ROLLBACK\n"
     ]
    }
   ],
   "metadata": {}
  }
 ],
 "metadata": {
  "orig_nbformat": 4,
  "language_info": {
   "name": "python",
   "version": "3.8.2",
   "mimetype": "text/x-python",
   "codemirror_mode": {
    "name": "ipython",
    "version": 3
   },
   "pygments_lexer": "ipython3",
   "nbconvert_exporter": "python",
   "file_extension": ".py"
  },
  "kernelspec": {
   "name": "python3",
   "display_name": "Python 3.8.2 64-bit ('venv': venv)"
  },
  "interpreter": {
   "hash": "e7a7ee7ce961312eca561f029804436e51e9b5f2e343e62ac10924b087a3b8fd"
  }
 },
 "nbformat": 4,
 "nbformat_minor": 2
}