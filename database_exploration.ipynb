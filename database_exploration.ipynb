{
 "cells": [
  {
   "cell_type": "code",
   "execution_count": 1,
   "metadata": {},
   "outputs": [
    {
     "data": {
      "text/plain": [
       "True"
      ]
     },
     "execution_count": 1,
     "metadata": {},
     "output_type": "execute_result"
    }
   ],
   "source": [
    "from dotenv import load_dotenv\n",
    "\n",
    "load_dotenv()"
   ]
  },
  {
   "cell_type": "code",
   "execution_count": 2,
   "metadata": {},
   "outputs": [],
   "source": [
    "from server.database import engine, create_all, drop_all\n",
    "from sqlalchemy import insert, select\n",
    "from server.database.tables import user_table, login_history_table\n",
    "\n",
    "# drop_all()\n",
    "# create_all()"
   ]
  },
  {
   "cell_type": "code",
   "execution_count": 4,
   "metadata": {},
   "outputs": [
    {
     "name": "stdout",
     "output_type": "stream",
     "text": [
      "2021-09-29 01:09:13,519 INFO sqlalchemy.engine.Engine BEGIN (implicit)\n",
      "2021-09-29 01:09:13,519 INFO sqlalchemy.engine.Engine select 'hello world'\n",
      "2021-09-29 01:09:13,520 INFO sqlalchemy.engine.Engine [generated in 0.00149s] {}\n",
      "[('hello world',)]\n",
      "2021-09-29 01:09:13,520 INFO sqlalchemy.engine.Engine ROLLBACK\n"
     ]
    }
   ],
   "source": [
    "from sqlalchemy import text\n",
    "\n",
    "# https://docs.sqlalchemy.org/en/14/tutorial/dbapi_transactions.html\n",
    "\n",
    "with engine.connect() as conn:\n",
    "    result = conn.execute(text(\"select 'hello world'\"))\n",
    "    print(result.all())"
   ]
  },
  {
   "cell_type": "code",
   "execution_count": 3,
   "metadata": {},
   "outputs": [
    {
     "name": "stdout",
     "output_type": "stream",
     "text": [
      "2021-10-17 01:04:47,036 INFO sqlalchemy.engine.Engine BEGIN (implicit)\n",
      "2021-10-17 01:04:47,037 INFO sqlalchemy.engine.Engine INSERT INTO user (name) VALUES (%(name)s)\n",
      "2021-10-17 01:04:47,037 INFO sqlalchemy.engine.Engine [generated in 0.00085s] {'name': 'Kittie'}\n",
      "2021-10-17 01:04:47,062 INFO sqlalchemy.engine.Engine COMMIT\n"
     ]
    }
   ],
   "source": [
    "with engine.connect() as conn:\n",
    "    with engine.connect() as conn:\n",
    "        conn.execute(insert(user_table),\n",
    "        [\n",
    "            {'name': 'Kittie'},\n",
    "        ])\n",
    "        conn.commit()"
   ]
  },
  {
   "cell_type": "code",
   "execution_count": 7,
   "metadata": {},
   "outputs": [
    {
     "name": "stdout",
     "output_type": "stream",
     "text": [
      "2021-10-17 01:07:17,598 INFO sqlalchemy.engine.Engine BEGIN (implicit)\n",
      "2021-10-17 01:07:17,598 INFO sqlalchemy.engine.Engine SELECT user.user_id, user.name, user.password, user.joined_date \n",
      "FROM user \n",
      "WHERE user.name = %(name_1)s\n",
      "2021-10-17 01:07:17,598 INFO sqlalchemy.engine.Engine [cached since 81.18s ago] {'name_1': 'Kittie'}\n",
      "2021-10-17 01:07:17,600 INFO sqlalchemy.engine.Engine ROLLBACK\n"
     ]
    },
    {
     "data": {
      "text/plain": [
       "1"
      ]
     },
     "execution_count": 7,
     "metadata": {},
     "output_type": "execute_result"
    }
   ],
   "source": [
    "with engine.connect() as conn:\n",
    "    with engine.connect() as conn:\n",
    "        result = conn.execute(\n",
    "            select(user_table)\n",
    "            .where(user_table.c.name == 'Kittie')\n",
    "        )\n",
    "        user_id = dict(result.one())['user_id']\n",
    "\n",
    "user_id"
   ]
  },
  {
   "cell_type": "code",
   "execution_count": 8,
   "metadata": {},
   "outputs": [
    {
     "name": "stdout",
     "output_type": "stream",
     "text": [
      "2021-09-29 01:11:35,431 INFO sqlalchemy.engine.Engine BEGIN (implicit)\n",
      "2021-09-29 01:11:35,432 INFO sqlalchemy.engine.Engine INSERT INTO login_history (user_id, confidence) VALUES (%(user_id)s, %(confidence)s)\n",
      "2021-09-29 01:11:35,432 INFO sqlalchemy.engine.Engine [generated in 0.00166s] {'user_id': 1, 'confidence': 60}\n",
      "2021-09-29 01:11:35,443 INFO sqlalchemy.engine.Engine COMMIT\n",
      "2021-09-29 01:11:36,465 INFO sqlalchemy.engine.Engine BEGIN (implicit)\n",
      "2021-09-29 01:11:36,466 INFO sqlalchemy.engine.Engine INSERT INTO login_history (user_id, confidence) VALUES (%(user_id)s, %(confidence)s)\n",
      "2021-09-29 01:11:36,466 INFO sqlalchemy.engine.Engine [cached since 1.036s ago] {'user_id': 1, 'confidence': 60}\n",
      "2021-09-29 01:11:36,467 INFO sqlalchemy.engine.Engine COMMIT\n",
      "2021-09-29 01:11:37,488 INFO sqlalchemy.engine.Engine BEGIN (implicit)\n",
      "2021-09-29 01:11:37,489 INFO sqlalchemy.engine.Engine INSERT INTO login_history (user_id, confidence) VALUES (%(user_id)s, %(confidence)s)\n",
      "2021-09-29 01:11:37,489 INFO sqlalchemy.engine.Engine [cached since 2.058s ago] {'user_id': 1, 'confidence': 60}\n",
      "2021-09-29 01:11:37,491 INFO sqlalchemy.engine.Engine COMMIT\n",
      "2021-09-29 01:11:38,508 INFO sqlalchemy.engine.Engine BEGIN (implicit)\n",
      "2021-09-29 01:11:38,509 INFO sqlalchemy.engine.Engine INSERT INTO login_history (user_id, confidence) VALUES (%(user_id)s, %(confidence)s)\n",
      "2021-09-29 01:11:38,509 INFO sqlalchemy.engine.Engine [cached since 3.078s ago] {'user_id': 1, 'confidence': 60}\n",
      "2021-09-29 01:11:38,510 INFO sqlalchemy.engine.Engine COMMIT\n",
      "2021-09-29 01:11:39,525 INFO sqlalchemy.engine.Engine BEGIN (implicit)\n",
      "2021-09-29 01:11:39,526 INFO sqlalchemy.engine.Engine INSERT INTO login_history (user_id, confidence) VALUES (%(user_id)s, %(confidence)s)\n",
      "2021-09-29 01:11:39,526 INFO sqlalchemy.engine.Engine [cached since 4.095s ago] {'user_id': 1, 'confidence': 60}\n",
      "2021-09-29 01:11:39,527 INFO sqlalchemy.engine.Engine COMMIT\n"
     ]
    }
   ],
   "source": [
    "import time\n",
    "\n",
    "with engine.connect() as conn:\n",
    "    for _ in range(5):\n",
    "        result = conn.execute(insert(login_history_table),\n",
    "        [\n",
    "            {'user_id': 1, 'confidence': 60},\n",
    "        ])\n",
    "        conn.commit()\n",
    "        time.sleep(1)\n"
   ]
  },
  {
   "cell_type": "code",
   "execution_count": 8,
   "metadata": {},
   "outputs": [
    {
     "name": "stdout",
     "output_type": "stream",
     "text": [
      "2\n"
     ]
    }
   ],
   "source": [
    "from sqlalchemy import func\n",
    "\n",
    "with engine.connect() as conn:\n",
    "    result = conn.execute(\n",
    "        select(func.count('*'))\n",
    "        .select_from(login_history_table)\n",
    "        .where(login_history_table.c.logout_date == None)\n",
    "    )\n",
    "    print(result.all()[0][0])"
   ]
  }
 ],
 "metadata": {
  "interpreter": {
   "hash": "c8fdbd56d0fa6160bd26a103725d32b860781f995057a73c434bfdbbda1cd5f2"
  },
  "kernelspec": {
   "display_name": "Python 3.9.6 64-bit ('venv': venv)",
   "name": "python3"
  },
  "language_info": {
   "codemirror_mode": {
    "name": "ipython",
    "version": 3
   },
   "file_extension": ".py",
   "mimetype": "text/x-python",
   "name": "python",
   "nbconvert_exporter": "python",
   "pygments_lexer": "ipython3",
   "version": "3.9.6"
  },
  "orig_nbformat": 4
 },
 "nbformat": 4,
 "nbformat_minor": 2
}
